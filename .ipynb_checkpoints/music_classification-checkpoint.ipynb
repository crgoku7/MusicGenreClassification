{
 "cells": [
  {
   "cell_type": "code",
   "execution_count": 4,
   "id": "7192d92d",
   "metadata": {},
   "outputs": [],
   "source": [
    "import pandas as pd\n",
    "import numpy as np\n",
    "import seaborn as sns\n",
    "import matplotlib.pyplot as plt\n",
    "%matplotlib inline\n",
    "import sklearn\n",
    "\n",
    "import librosa\n",
    "import IPython.display as ipd\n",
    "import warnings\n",
    "warnings.filterwarnings('ignore')\n",
    "\n",
    "import os"
   ]
  },
  {
   "cell_type": "code",
   "execution_count": 6,
   "id": "ac7a8f61",
   "metadata": {},
   "outputs": [
    {
     "name": "stdout",
     "output_type": "stream",
     "text": [
      "['blues', 'classical', 'country', 'disco', 'hiphop', 'jazz', 'metal', 'pop', 'reggae', 'rock']\n"
     ]
    }
   ],
   "source": [
    "print(os.listdir(\"Data/genres_original\"))"
   ]
  },
  {
   "cell_type": "code",
   "execution_count": 8,
   "id": "f54e2411",
   "metadata": {},
   "outputs": [
    {
     "name": "stdout",
     "output_type": "stream",
     "text": [
      "Sound Array : [ 0.00732422  0.01660156  0.00762939 ... -0.05560303 -0.06106567\n",
      " -0.06417847]\n",
      "Sample Rate (KHz) 22050\n"
     ]
    }
   ],
   "source": [
    "#Understanding the Audio File\n",
    "\n",
    "y, sr = librosa.load(\"Data/genres_original/blues/blues.00000.wav\")\n",
    "\n",
    "print(\"Sound Array :\", y)\n",
    "print(\"Sample Rate (KHz)\", sr)"
   ]
  },
  {
   "cell_type": "code",
   "execution_count": null,
   "id": "ba0cab97",
   "metadata": {},
   "outputs": [],
   "source": [
    "#Trimming the Silence sequences sandwiching the audio file\n",
    "\n",
    "file, z = librosa.effects.trim(y)"
   ]
  }
 ],
 "metadata": {
  "kernelspec": {
   "display_name": "Python 3 (ipykernel)",
   "language": "python",
   "name": "python3"
  },
  "language_info": {
   "codemirror_mode": {
    "name": "ipython",
    "version": 3
   },
   "file_extension": ".py",
   "mimetype": "text/x-python",
   "name": "python",
   "nbconvert_exporter": "python",
   "pygments_lexer": "ipython3",
   "version": "3.10.6"
  }
 },
 "nbformat": 4,
 "nbformat_minor": 5
}
